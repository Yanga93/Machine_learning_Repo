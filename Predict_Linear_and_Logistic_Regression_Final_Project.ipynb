{
 "cells": [
  {
   "cell_type": "markdown",
   "metadata": {},
   "source": [
    "# Machine Learning Algorithms - Predict Solutions"
   ]
  },
  {
   "cell_type": "markdown",
   "metadata": {},
   "source": [
    "Complete the following functions using the Machine Learning techniques you have covered in the training notebooks."
   ]
  },
  {
   "cell_type": "markdown",
   "metadata": {},
   "source": [
    "## Pre-processing"
   ]
  },
  {
   "cell_type": "markdown",
   "metadata": {},
   "source": [
    "### Import Data"
   ]
  },
  {
   "cell_type": "code",
   "execution_count": 808,
   "metadata": {},
   "outputs": [],
   "source": [
    "import numpy as np\n",
    "import pandas as pd\n",
    "import matplotlib.pyplot as plt\n",
    "import seaborn as sns\n",
    "% matplotlib inline\n",
    "from sklearn.preprocessing import StandardScaler\n",
    "from sklearn.model_selection import train_test_split\n",
    "from sklearn.linear_model import LinearRegression\n",
    "from sklearn.linear_model import LogisticRegression\n",
    "from sklearn.linear_model import Ridge\n",
    "from sklearn.linear_model import Lasso\n",
    "from sklearn.metrics import mean_squared_error\n",
    "from sklearn.metrics import mean_absolute_error\n",
    "from sklearn.metrics import confusion_matrix\n",
    "from sklearn.metrics import classification_report\n",
    "from sklearn.metrics import precision_recall_fscore_support as score\n",
    "\n",
    "df = pd.read_csv('C:/Users/JF51/Desktop/data.csv').drop('Unnamed: 0', axis=1)"
   ]
  },
  {
   "cell_type": "markdown",
   "metadata": {},
   "source": [
    "### Pre-process Data"
   ]
  },
  {
   "cell_type": "code",
   "execution_count": 809,
   "metadata": {},
   "outputs": [],
   "source": [
    "# Regression labels\n",
    "y_r = df['target_return']\n",
    "\n",
    "# Classification labels\n",
    "y_c = df['target_return'].apply(lambda x: 1 if x > 0 else 0)\n",
    "\n",
    "# Features\n",
    "X = df.drop(['Date', 'company', 'target_return'], axis=1)"
   ]
  },
  {
   "cell_type": "code",
   "execution_count": 810,
   "metadata": {},
   "outputs": [],
   "source": [
    "# Standardize data\n",
    "scaler = StandardScaler()\n",
    "X_scaled = scaler.fit_transform(X)\n",
    "X_standardize = pd.DataFrame(X_scaled,columns=X.columns)"
   ]
  },
  {
   "cell_type": "code",
   "execution_count": 811,
   "metadata": {},
   "outputs": [],
   "source": [
    "# Regression train/test split\n",
    "X_train_r, X_test_r, y_train_r, y_test_r = train_test_split(X_standardize, y_r, test_size=0.3, random_state=101)\n",
    "\n",
    "# Classification train/test split\n",
    "X_train_c, X_test_c, y_train_c, y_test_c = train_test_split(X_standardize, y_c, test_size=0.3, random_state=101)"
   ]
  },
  {
   "cell_type": "markdown",
   "metadata": {},
   "source": [
    "## Function 1"
   ]
  },
  {
   "cell_type": "markdown",
   "metadata": {},
   "source": [
    "Write a function to return the intercept as a float (rounded to the nearest 3 integers) of a linear regression model\n",
    "\n",
    "* Given the training features (X_train) and labels (y_train)"
   ]
  },
  {
   "cell_type": "code",
   "execution_count": 812,
   "metadata": {},
   "outputs": [],
   "source": [
    "def lin_reg_intercept(X_train, y_train):\n",
    "    \n",
    "    \"Returns intercept (float) of linear regression model\"\n",
    "\n",
    "    # Your code here\n",
    "    \n",
    "    # Create linear regression object\n",
    "    lm = LinearRegression()\n",
    "\n",
    "    # Train the model using the training sets\n",
    "    lm.fit(X_train, y_train)\n",
    "\n",
    "    #Equation  Intercept\n",
    "    int_lm = float(round(lm.intercept_,3))\n",
    "    \n",
    "    return int_lm\n",
    "    \n",
    "    "
   ]
  },
  {
   "cell_type": "code",
   "execution_count": 813,
   "metadata": {},
   "outputs": [
    {
     "data": {
      "text/plain": [
       "0.027"
      ]
     },
     "execution_count": 813,
     "metadata": {},
     "output_type": "execute_result"
    }
   ],
   "source": [
    "lin_reg_intercept(X_train_r, y_train_r)"
   ]
  },
  {
   "cell_type": "markdown",
   "metadata": {},
   "source": [
    "## Function 2"
   ]
  },
  {
   "cell_type": "markdown",
   "metadata": {},
   "source": [
    "Write a function to return the number of coefficients greater than 0 in a lasso model (as an integer)\n",
    "\n",
    "* Given the training features (X_train) and labels (y_train)\n",
    "* For a specific value of the regularisation parameter (alpha)"
   ]
  },
  {
   "cell_type": "code",
   "execution_count": 814,
   "metadata": {},
   "outputs": [],
   "source": [
    "def lasso_predictors(X_train, y_train, alpha):\n",
    "    \n",
    "    \"Returns number (integer) of coefficients in lasso model that are greater than 0\"\n",
    "    \n",
    "    # Your code here\n",
    "    \n",
    "    # Create lasso object\n",
    "    lasso = Lasso(alpha=alpha)\n",
    "    \n",
    "    # Train the model using the training sets\n",
    "    lasso.fit(X_train,y_train)\n",
    "    \n",
    "    coef_lm = int(np.sum(lasso.coef_ > 0))\n",
    "        \n",
    "    return coef_lm\n",
    " "
   ]
  },
  {
   "cell_type": "code",
   "execution_count": 815,
   "metadata": {},
   "outputs": [
    {
     "data": {
      "text/plain": [
       "2"
      ]
     },
     "execution_count": 815,
     "metadata": {},
     "output_type": "execute_result"
    }
   ],
   "source": [
    "lasso_predictors(X_train_r, y_train_r, 0.005)"
   ]
  },
  {
   "cell_type": "markdown",
   "metadata": {},
   "source": [
    "## Function 3"
   ]
  },
  {
   "cell_type": "markdown",
   "metadata": {},
   "source": [
    "Write a function to return the mean squared error as a float (rounded to the nearest 3 integers) of a linear regression model \n",
    "\n",
    "* Given the training features (X_train) training labels (y_train), testing features (X_test) and testing labels (y_test)"
   ]
  },
  {
   "cell_type": "code",
   "execution_count": 816,
   "metadata": {},
   "outputs": [],
   "source": [
    "def lnr_mse(X_train, y_train, X_test, y_test):\n",
    "    \n",
    "    \"Returns the MSE (float) of a linear regression model\"\n",
    "    \n",
    "    \n",
    "    # Your code here\n",
    "    \n",
    "    # Create linear regression object\n",
    "    lm = LinearRegression()\n",
    "    \n",
    "    # Create prediction object\n",
    "    lm.fit(X_train, y_train)\n",
    "    pred_lm = lm.predict(X_test)\n",
    "    \n",
    "    mse = float(round(mean_squared_error(y_test, pred_lm),3))\n",
    "    \n",
    "    return mse\n",
    "    \n",
    "    "
   ]
  },
  {
   "cell_type": "code",
   "execution_count": 817,
   "metadata": {},
   "outputs": [
    {
     "data": {
      "text/plain": [
       "0.032"
      ]
     },
     "execution_count": 817,
     "metadata": {},
     "output_type": "execute_result"
    }
   ],
   "source": [
    "lnr_mse(X_train_r, y_train_r, X_test_r, y_test_r)"
   ]
  },
  {
   "cell_type": "markdown",
   "metadata": {},
   "source": [
    "## Function 4"
   ]
  },
  {
   "cell_type": "markdown",
   "metadata": {},
   "source": [
    "Write a function to return the mean absolute error as a float (rounded to the nearest 3 integers) of a ridge regression model \n",
    "\n",
    "* Given the training features (X_train), training labels (y_train), testing features (X_test) and testing labels (y_test)\n",
    "* For a specific value of the regularisation parameter (alpha)"
   ]
  },
  {
   "cell_type": "code",
   "execution_count": 818,
   "metadata": {},
   "outputs": [],
   "source": [
    "def ridge_mae(X_train, y_train, X_test, y_test, alpha):\n",
    "    \n",
    "    \"Returns the MAE (float) of the ridge regression model\"\n",
    "    \n",
    "    # Your code here\n",
    "    \n",
    "    # create ridge object\n",
    "    ridge = Ridge(alpha=alpha)\n",
    "    \n",
    "    # Train the model using the training sets\n",
    "    ridge.fit(X_train,y_train)\n",
    "    \n",
    "    # Create prediction object\n",
    "    pred_rd = ridge.predict(X_test)\n",
    "    \n",
    "    # the MAE of the ridge regression model\n",
    "    mae = float(round(mean_absolute_error(y_test, pred_rd),3))\n",
    "    \n",
    "    return mae"
   ]
  },
  {
   "cell_type": "code",
   "execution_count": 819,
   "metadata": {},
   "outputs": [
    {
     "data": {
      "text/plain": [
       "0.096"
      ]
     },
     "execution_count": 819,
     "metadata": {},
     "output_type": "execute_result"
    }
   ],
   "source": [
    "ridge_mae(X_train_r, y_train_r, X_test_r, y_test_r, 1)"
   ]
  },
  {
   "cell_type": "markdown",
   "metadata": {},
   "source": [
    "## Function 5"
   ]
  },
  {
   "cell_type": "markdown",
   "metadata": {},
   "source": [
    "Write a function to return the root mean squared error as a float (rounded to the nearest 3 integers) of a linear regression model\n",
    "\n",
    "* Given the training features (X_train), training labels (y_train), testing features (X_test) and testing labels (y_test)"
   ]
  },
  {
   "cell_type": "code",
   "execution_count": 820,
   "metadata": {},
   "outputs": [],
   "source": [
    "def lnr_rmse(X_train, y_train, X_test, y_test):\n",
    "    \n",
    "    \"Returns the root mean squared error (float) of a linear regression model\"\n",
    "    \n",
    "    # Your code here\n",
    "    \n",
    "    # Create logistic regression object\n",
    "    lm  = LinearRegression()\n",
    "    \n",
    "    # Train the model \n",
    "    lm.fit(X_train,y_train)\n",
    "    \n",
    "    # Create prediction object\n",
    "    pred_lm = lm.predict(X_test)\n",
    "    \n",
    "    # set the root mean squared error of a linear regression model\n",
    "    rmse = float(round(np.sqrt(mean_squared_error(y_test, pred_lm)),3))\n",
    "    \n",
    "    return rmse\n",
    "    "
   ]
  },
  {
   "cell_type": "code",
   "execution_count": 821,
   "metadata": {},
   "outputs": [
    {
     "data": {
      "text/plain": [
       "1.106"
      ]
     },
     "execution_count": 821,
     "metadata": {},
     "output_type": "execute_result"
    }
   ],
   "source": [
    "lnr_rmse(X_train_c, y_train_c, X_test_c, y_test_c)"
   ]
  },
  {
   "cell_type": "markdown",
   "metadata": {},
   "source": [
    "## Function 6"
   ]
  },
  {
   "cell_type": "markdown",
   "metadata": {},
   "source": [
    "Write a function to return the highest coefficient in a logistic regression model as a float (rounded to the nearest 3 integers)\n",
    "\n",
    "* Given the training features (X_train) and labels (y_train)"
   ]
  },
  {
   "cell_type": "code",
   "execution_count": 822,
   "metadata": {},
   "outputs": [],
   "source": [
    "def highest_coef(X_train, y_train):\n",
    "    \n",
    "    \"Returns the highest coefficient in a logistic regression model as a float (rounded to the nearest 3 integers)\"\n",
    "    \n",
    "    # Your code here\n",
    "    \n",
    "    # Create logistic regression object\n",
    "    log_model = LogisticRegression()\n",
    "    \n",
    "    # Train the model \n",
    "    log_model.fit(X_train, y_train)\n",
    "    \n",
    "    # Get the list from Equation coefficient\n",
    "    coef_list = list(log_model.coef_)\n",
    "    \n",
    "    # get the maximum value from the list\n",
    "    highest_coef_lrm = max(coef_list)\n",
    "    \n",
    "    highest_lrm_coef = (max(highest_coef_lrm))\n",
    "    \n",
    "    coef_logmodel = float(round(highest_lrm_coef,3))\n",
    "    \n",
    "    return coef_logmodel\n",
    "    \n",
    "    "
   ]
  },
  {
   "cell_type": "code",
   "execution_count": 823,
   "metadata": {},
   "outputs": [
    {
     "data": {
      "text/plain": [
       "0.977"
      ]
     },
     "execution_count": 823,
     "metadata": {},
     "output_type": "execute_result"
    }
   ],
   "source": [
    "highest_coef(X_train_c, y_train_c)"
   ]
  },
  {
   "cell_type": "markdown",
   "metadata": {},
   "source": [
    "## Function 7"
   ]
  },
  {
   "cell_type": "markdown",
   "metadata": {},
   "source": [
    "Write a function to return the number of true positives (as an integer) of a logistic regression model \n",
    "\n",
    "* Given the training features (X_train), training labels (y_train), testing features (X_test) and testing labels (y_test)"
   ]
  },
  {
   "cell_type": "code",
   "execution_count": 824,
   "metadata": {},
   "outputs": [],
   "source": [
    "def log_reg_tp(X_train, y_train, X_test, y_test):\n",
    "    \n",
    "    \"Returns the number (integer) of true positives for a logistic regression model\"\n",
    "  \n",
    "    # Your code here\n",
    "    \n",
    "    # Create logistic regression object\n",
    "    log_model = LogisticRegression()\n",
    "    \n",
    "    # Train the model\n",
    "    ls = log_model.fit(X_train, y_train) \n",
    "    \n",
    "    # Create prediction object\n",
    "    pred_lm = ls.predict(X_test)\n",
    "    \n",
    "    lgm = confusion_matrix(y_test,pred_lm).ravel()\n",
    "    \n",
    "\n",
    "    int_logmodel = int(lgm[0])\n",
    "    \n",
    "    return int_logmodel\n",
    "    "
   ]
  },
  {
   "cell_type": "code",
   "execution_count": 825,
   "metadata": {},
   "outputs": [
    {
     "data": {
      "text/plain": [
       "16"
      ]
     },
     "execution_count": 825,
     "metadata": {},
     "output_type": "execute_result"
    }
   ],
   "source": [
    "log_reg_tp(X_train_c, y_train_c, X_test_c, y_test_c)"
   ]
  },
  {
   "cell_type": "markdown",
   "metadata": {},
   "source": [
    "## Function 8"
   ]
  },
  {
   "cell_type": "markdown",
   "metadata": {},
   "source": [
    "Write a function to return the precision as a float (rounded to the nearest 3 integers) of a logistic regression model \n",
    "\n",
    "* Given the training features (X_train), training labels (y_train), testing features (X_test) and testing labels (y_test)"
   ]
  },
  {
   "cell_type": "code",
   "execution_count": 843,
   "metadata": {},
   "outputs": [],
   "source": [
    "def lgr_precision(X_train, y_train, X_test, y_test):\n",
    "    \n",
    "    \"Returns the precision (float) for a logistic regression model\"\n",
    "    \n",
    "    # Your code here\n",
    "    \n",
    "    # Create logistic regression object\n",
    "    lm = LogisticRegression()\n",
    "    \n",
    "    # Train the model \n",
    "    lm_train = lm.fit(X_train, y_train)\n",
    "    \n",
    "    #Predict Output\n",
    "    predicted = lm_train.predict(X_test)\n",
    "    \n",
    "    # Set the precision for a logistic regression model\n",
    "    prec_lrm =  float(round(score(y_test, predicted,average='weighted')[0],3))\n",
    "    \n",
    "    print(score(y_test, predicted,average='weighted'))\n",
    "    \n",
    "    return prec_lrm\n",
    "    "
   ]
  },
  {
   "cell_type": "code",
   "execution_count": 844,
   "metadata": {
    "scrolled": true
   },
   "outputs": [
    {
     "name": "stdout",
     "output_type": "stream",
     "text": [
      "(0.6082424263036621, 0.6055045871559633, 0.5767404460982443, None)\n"
     ]
    },
    {
     "data": {
      "text/plain": [
       "0.608"
      ]
     },
     "execution_count": 844,
     "metadata": {},
     "output_type": "execute_result"
    }
   ],
   "source": [
    "lgr_precision(X_train_c, y_train_c, X_test_c, y_test_c)"
   ]
  },
  {
   "cell_type": "markdown",
   "metadata": {},
   "source": [
    "## Function 9"
   ]
  },
  {
   "cell_type": "markdown",
   "metadata": {},
   "source": [
    "Write a function to return the f1-score as a float (rounded to the nearest 3 integers) of a logistic regression model \n",
    "\n",
    "* Given the training features (X_train), training labels (y_train), testing features (X_test) and testing labels (y_test)"
   ]
  },
  {
   "cell_type": "code",
   "execution_count": 828,
   "metadata": {},
   "outputs": [],
   "source": [
    "def lgr_f1_score(X_train, y_train, X_test, y_test):\n",
    "    #from sklearn.metrics import f1_score\n",
    "    \n",
    "    \"Returns the f1-score (float) for the logistic regression model\"\n",
    "     \n",
    "    # Your code here\n",
    "    \n",
    "    # Create logistic regression object\n",
    "    lm = LogisticRegression()\n",
    "    \n",
    "    # Train the model \n",
    "    lm_train = lm.fit(X_train, y_train)\n",
    "    \n",
    "    #Predict Output\n",
    "    predicted = lm_train.predict(X_test)\n",
    "    \n",
    "    # Set the precision for a logistic regression model\n",
    "    prec_lrm =  float(round(score(y_test, predicted,average='weighted')[2],3))\n",
    "    \n",
    "    return prec_lrm"
   ]
  },
  {
   "cell_type": "code",
   "execution_count": 829,
   "metadata": {},
   "outputs": [
    {
     "data": {
      "text/plain": [
       "0.577"
      ]
     },
     "execution_count": 829,
     "metadata": {},
     "output_type": "execute_result"
    }
   ],
   "source": [
    "lgr_f1_score(X_train_c, y_train_c, X_test_c, y_test_c)"
   ]
  },
  {
   "cell_type": "markdown",
   "metadata": {},
   "source": [
    "## Function 10"
   ]
  },
  {
   "cell_type": "markdown",
   "metadata": {},
   "source": [
    "Write a function to return a specific metric (precision, recall or f1-score) as a float (rounded to the nearest 3 integers) of a logistic regression model \n",
    "\n",
    "* Given the training features (X_train), training labels (y_train), testing features (X_test) and testing labels (y_test)"
   ]
  },
  {
   "cell_type": "code",
   "execution_count": 841,
   "metadata": {},
   "outputs": [],
   "source": [
    "def lgr_metric_output(X_train, y_train, X_test, y_test, metric):\n",
    "    \n",
    "    \n",
    "    \"Returns the chosen metric (float) for the logistic regression model\"\n",
    "     \n",
    "    # Your code here\n",
    "    \n",
    "    if metric == 'F1_score':\n",
    "        metric = 2\n",
    "        \n",
    "    elif metric == 'precision':\n",
    "        metric = 0\n",
    "        \n",
    "    elif metric == 'recall':\n",
    "        metric = 1\n",
    "        \n",
    "    else:\n",
    "        return  \n",
    "       \n",
    "             \n",
    "    # Create logistic regression object\n",
    "    lm = LogisticRegression()\n",
    "    \n",
    "    # Train the model \n",
    "    lm_train = lm.fit(X_train, y_train)\n",
    "    \n",
    "    #Predict Output\n",
    "    predicted = lm_train.predict(X_test)\n",
    "    \n",
    "    # Set the precision for a logistic regression model\n",
    "    \n",
    "  \n",
    "            \n",
    "    prec_lrm = float(round(score(y_test, predicted,average=\"weighted\")[metric],3))\n",
    "\n",
    "\n",
    "    return prec_lrm\n",
    "    \n",
    "    "
   ]
  },
  {
   "cell_type": "code",
   "execution_count": 842,
   "metadata": {},
   "outputs": [
    {
     "data": {
      "text/plain": [
       "0.577"
      ]
     },
     "execution_count": 842,
     "metadata": {},
     "output_type": "execute_result"
    }
   ],
   "source": [
    "lgr_metric_output(X_train_c, y_train_c, X_test_c, y_test_c, 'F1_score')"
   ]
  },
  {
   "cell_type": "code",
   "execution_count": null,
   "metadata": {},
   "outputs": [],
   "source": []
  },
  {
   "cell_type": "code",
   "execution_count": null,
   "metadata": {},
   "outputs": [],
   "source": []
  }
 ],
 "metadata": {
  "kernelspec": {
   "display_name": "Python 3",
   "language": "python",
   "name": "python3"
  },
  "language_info": {
   "codemirror_mode": {
    "name": "ipython",
    "version": 3
   },
   "file_extension": ".py",
   "mimetype": "text/x-python",
   "name": "python",
   "nbconvert_exporter": "python",
   "pygments_lexer": "ipython3",
   "version": "3.6.5"
  }
 },
 "nbformat": 4,
 "nbformat_minor": 2
}
